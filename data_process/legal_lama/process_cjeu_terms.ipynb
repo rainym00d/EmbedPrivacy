{
 "cells": [
  {
   "cell_type": "markdown",
   "metadata": {},
   "source": [
    "# process origin dataset"
   ]
  },
  {
   "cell_type": "markdown",
   "metadata": {},
   "source": [
    "## load origin data"
   ]
  },
  {
   "cell_type": "code",
   "execution_count": null,
   "metadata": {},
   "outputs": [],
   "source": [
    "import datasets"
   ]
  },
  {
   "cell_type": "code",
   "execution_count": null,
   "metadata": {},
   "outputs": [],
   "source": [
    "dataset = datasets.load_dataset('lexlms/legal_lama', 'cjeu_terms')\n",
    "\n",
    "dataset = dataset[\"test\"]\n",
    "\n",
    "dataset"
   ]
  },
  {
   "cell_type": "markdown",
   "metadata": {},
   "source": [
    "# process new dataset"
   ]
  },
  {
   "cell_type": "markdown",
   "metadata": {},
   "source": [
    "## process text"
   ]
  },
  {
   "cell_type": "code",
   "execution_count": null,
   "metadata": {},
   "outputs": [],
   "source": [
    "dataset = dataset.map(lambda example: {\"text\": example[\"text\"].strip()}, num_proc=32)\n",
    "\n",
    "dataset"
   ]
  },
  {
   "cell_type": "markdown",
   "metadata": {},
   "source": [
    "## process mask"
   ]
  },
  {
   "cell_type": "code",
   "execution_count": null,
   "metadata": {},
   "outputs": [],
   "source": [
    "dataset = dataset.map(lambda example: {\"text\": example[\"text\"].replace(\"<mask>\", example[\"label\"])}, num_proc=32)\n",
    "\n",
    "dataset"
   ]
  },
  {
   "cell_type": "markdown",
   "metadata": {},
   "source": [
    "## process other column"
   ]
  },
  {
   "cell_type": "code",
   "execution_count": null,
   "metadata": {},
   "outputs": [],
   "source": [
    "dataset = dataset.remove_columns([\"category\"])\n",
    "\n",
    "dataset"
   ]
  },
  {
   "cell_type": "code",
   "execution_count": null,
   "metadata": {},
   "outputs": [],
   "source": [
    "dataset = dataset.rename_column(\"label\", \"legal_term\")\n",
    "\n",
    "dataset"
   ]
  },
  {
   "cell_type": "code",
   "execution_count": null,
   "metadata": {},
   "outputs": [],
   "source": [
    "dataset = dataset.map(lambda example: {\"legal_term\": example[\"legal_term\"].lower()}, num_proc=32)\n",
    "\n",
    "dataset"
   ]
  },
  {
   "cell_type": "markdown",
   "metadata": {},
   "source": [
    "## creaet candidate list"
   ]
  },
  {
   "cell_type": "code",
   "execution_count": null,
   "metadata": {},
   "outputs": [],
   "source": [
    "import random\n",
    "from collections import Counter\n",
    "\n",
    "seed = 2023\n",
    "random.seed(seed)\n",
    "counter = Counter(dataset[\"legal_term\"])\n",
    "\n",
    "candidate_num = 10\n",
    "\n",
    "def create_candidate(example):\n",
    "    target = example[\"legal_term\"]\n",
    "    tmp_list = list(counter.keys())\n",
    "    tmp_list.remove(target)\n",
    "    candidate_list = [target] + random.sample(tmp_list, candidate_num - 1)\n",
    "\n",
    "    return {\"legal_term_candidate_list\": candidate_list}\n",
    "\n",
    "dataset = dataset.map(create_candidate, num_proc=32)\n",
    "\n",
    "dataset"
   ]
  },
  {
   "cell_type": "code",
   "execution_count": 9,
   "metadata": {},
   "outputs": [
    {
     "name": "stderr",
     "output_type": "stream",
     "text": [
      "                                                                                              \r"
     ]
    }
   ],
   "source": [
    "dataset.save_to_disk(\"./tmp/cjeu_terms\")"
   ]
  },
  {
   "cell_type": "markdown",
   "metadata": {},
   "source": [
    "## get embedding & save"
   ]
  },
  {
   "cell_type": "markdown",
   "metadata": {},
   "source": [
    "### sup-simcse-bert-base-uncased"
   ]
  },
  {
   "cell_type": "code",
   "execution_count": null,
   "metadata": {},
   "outputs": [],
   "source": [
    "!torchrun --nproc_per_node=8 ../embedding/sup-simcse-bert-base-uncased.py \\\n",
    "    --input_dataset \"./tmp/cjeu_terms\" \\\n",
    "    --output_dataset \"your_output_dir\" \\\n",
    "    --train_size 0 \\\n",
    "    --valid_size 0 \\\n",
    "    --test_size 2127 \\"
   ]
  },
  {
   "cell_type": "markdown",
   "metadata": {},
   "source": [
    "### e5-large-v2"
   ]
  },
  {
   "cell_type": "code",
   "execution_count": null,
   "metadata": {},
   "outputs": [],
   "source": [
    "!torchrun --nproc_per_node=8 ../embedding/e5-large-v2.py \\\n",
    "    --input_dataset \"./tmp/cjeu_terms\" \\\n",
    "    --output_dataset \"your_output_dir\" \\\n",
    "    --train_size 0 \\\n",
    "    --valid_size 0 \\\n",
    "    --test_size 2127 \\"
   ]
  },
  {
   "cell_type": "markdown",
   "metadata": {},
   "source": [
    "### bge-large-en"
   ]
  },
  {
   "cell_type": "code",
   "execution_count": null,
   "metadata": {},
   "outputs": [],
   "source": [
    "!torchrun --nproc_per_node=8 ../embedding/bge-large-en.py \\\n",
    "    --input_dataset \"./tmp/cjeu_terms\" \\\n",
    "    --output_dataset \"your_output_dir\" \\\n",
    "    --train_size 0 \\\n",
    "    --valid_size 0 \\\n",
    "    --test_size 2127 \\"
   ]
  },
  {
   "cell_type": "code",
   "execution_count": null,
   "metadata": {},
   "outputs": [],
   "source": []
  }
 ],
 "metadata": {
  "kernelspec": {
   "display_name": "Python 3",
   "language": "python",
   "name": "python3"
  },
  "language_info": {
   "codemirror_mode": {
    "name": "ipython",
    "version": 3
   },
   "file_extension": ".py",
   "mimetype": "text/x-python",
   "name": "python",
   "nbconvert_exporter": "python",
   "pygments_lexer": "ipython3",
   "version": "3.10.12"
  },
  "orig_nbformat": 4
 },
 "nbformat": 4,
 "nbformat_minor": 2
}
