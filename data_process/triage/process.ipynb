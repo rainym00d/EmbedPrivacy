{
 "cells": [
  {
   "cell_type": "markdown",
   "metadata": {},
   "source": [
    "# process origin dataset"
   ]
  },
  {
   "cell_type": "markdown",
   "metadata": {},
   "source": [
    "## load origin data"
   ]
  },
  {
   "cell_type": "code",
   "execution_count": 81,
   "metadata": {},
   "outputs": [],
   "source": [
    "import pandas as pd"
   ]
  },
  {
   "cell_type": "code",
   "execution_count": 82,
   "metadata": {},
   "outputs": [],
   "source": [
    "datas = pd.read_csv('/data/triage/Altered_Level_of_Consciousness.csv')\n",
    "select_column = ['DISPOSITION', 'Heart.Rate', 'SystolicBP', 'DistolicBP', 'TriageNote']\n",
    "datas = datas[select_column].dropna(axis=0, how='any')"
   ]
  },
  {
   "cell_type": "markdown",
   "metadata": {},
   "source": [
    "## create huggingface datasets type data"
   ]
  },
  {
   "cell_type": "code",
   "execution_count": 83,
   "metadata": {},
   "outputs": [],
   "source": [
    "import datasets"
   ]
  },
  {
   "cell_type": "code",
   "execution_count": null,
   "metadata": {},
   "outputs": [],
   "source": [
    "dataset = datasets.Dataset.from_dict(\n",
    "    {\n",
    "        'text': list(datas['TriageNote']), \n",
    "        'DISPOSITION': list(datas['DISPOSITION']),\n",
    "        'Heart.Rate': list(datas['Heart.Rate']),\n",
    "        'SystolicBP': list(datas['SystolicBP']),\n",
    "        'DiastolicBP': list(datas['DistolicBP'])\n",
    "    }\n",
    ")\n",
    "\n",
    "dataset"
   ]
  },
  {
   "cell_type": "markdown",
   "metadata": {},
   "source": [
    "# process new dataset"
   ]
  },
  {
   "cell_type": "markdown",
   "metadata": {},
   "source": [
    "## process DISPOSITION"
   ]
  },
  {
   "cell_type": "code",
   "execution_count": null,
   "metadata": {},
   "outputs": [],
   "source": [
    "dataset = dataset.map(lambda example: {'DISPOSITION': \"discharge\" if example['DISPOSITION'] == \"D\" else \"admittance\"}, num_proc=32)\n",
    "\n",
    "dataset"
   ]
  },
  {
   "cell_type": "code",
   "execution_count": null,
   "metadata": {},
   "outputs": [],
   "source": [
    "dataset = dataset.rename_column('DISPOSITION', 'disposition')\n",
    "\n",
    "dataset"
   ]
  },
  {
   "cell_type": "markdown",
   "metadata": {},
   "source": [
    "## process Heart.Rate, SystolicBP and DiastolicBP"
   ]
  },
  {
   "cell_type": "code",
   "execution_count": null,
   "metadata": {},
   "outputs": [],
   "source": [
    "new_features = dataset.features.copy()\n",
    "\n",
    "new_features"
   ]
  },
  {
   "cell_type": "code",
   "execution_count": 88,
   "metadata": {},
   "outputs": [],
   "source": [
    "new_features[\"Heart.Rate\"] = datasets.Value(\"int32\")\n",
    "new_features[\"SystolicBP\"] = datasets.Value(\"int32\")\n",
    "new_features[\"DiastolicBP\"] = datasets.Value(\"int32\")"
   ]
  },
  {
   "cell_type": "code",
   "execution_count": null,
   "metadata": {},
   "outputs": [],
   "source": [
    "dataset = dataset.cast(new_features)\n",
    "\n",
    "dataset"
   ]
  },
  {
   "cell_type": "code",
   "execution_count": null,
   "metadata": {},
   "outputs": [],
   "source": [
    "dataset = dataset.rename_columns({\n",
    "    'Heart.Rate': 'heart_rate',\n",
    "    \"SystolicBP\": \"systolic_blood_pressure\",\n",
    "    \"DiastolicBP\": \"diastolic_blood_pressure\",\n",
    "})\n",
    "\n",
    "dataset"
   ]
  },
  {
   "cell_type": "markdown",
   "metadata": {},
   "source": [
    "## process text"
   ]
  },
  {
   "cell_type": "code",
   "execution_count": null,
   "metadata": {},
   "outputs": [],
   "source": [
    "dataset[3][\"text\"]"
   ]
  },
  {
   "cell_type": "code",
   "execution_count": null,
   "metadata": {},
   "outputs": [],
   "source": [
    "import re\n",
    "\n",
    "def process_text(example):\n",
    "    text = example['text']\n",
    "    text = text.strip()\n",
    "    text = re.sub(r'\\s+', ' ', text)\n",
    "    if text[-1] != \".\":\n",
    "        text += \".\"\n",
    "    tmp = []\n",
    "    for attribute_name in [\"disposition\", 'heart_rate', 'systolic_blood_pressure', 'diastolic_blood_pressure']:\n",
    "        attribute_value = example[attribute_name]\n",
    "        tmp.append(f\"The {' '.join(attribute_name.split('_'))} is {attribute_value}.\")\n",
    "    text = \" \".join(tmp) + \" \" + text\n",
    "    return {\"text\": text}\n",
    "\n",
    "dataset = dataset.map(process_text, num_proc=32)\n",
    "\n",
    "dataset"
   ]
  },
  {
   "cell_type": "markdown",
   "metadata": {},
   "source": [
    "## create candidate list"
   ]
  },
  {
   "cell_type": "code",
   "execution_count": null,
   "metadata": {},
   "outputs": [],
   "source": [
    "import random\n",
    "from collections import Counter\n",
    "\n",
    "seed = 2023\n",
    "random.seed(seed)\n",
    "\n",
    "candidate_num = 10\n",
    "\n",
    "def create_candidate(example):\n",
    "    target = example[attribute]\n",
    "    if attribute != \"disposition\":\n",
    "        tmp_list = list(attribute_counter.keys())\n",
    "        tmp_list.remove(target)\n",
    "        candidate_list = [target] + random.sample(tmp_list, candidate_num - 1)\n",
    "    else:\n",
    "        if target == \"discharge\":\n",
    "            candidate_list = [\"discharge\", \"admittance\"]\n",
    "        else:\n",
    "            candidate_list = [\"admittance\", \"discharge\"]\n",
    "\n",
    "    return {f\"{attribute}_candidate_list\": candidate_list}\n",
    "\n",
    "\n",
    "attribute_list = ['disposition', 'heart_rate', 'systolic_blood_pressure', 'diastolic_blood_pressure']\n",
    "\n",
    "for attribute in attribute_list:\n",
    "    attribute_counter = Counter(dataset[attribute])\n",
    "    dataset = dataset.map(create_candidate, num_proc=32)\n",
    "\n",
    "dataset"
   ]
  },
  {
   "cell_type": "code",
   "execution_count": 94,
   "metadata": {},
   "outputs": [
    {
     "name": "stderr",
     "output_type": "stream",
     "text": [
      "                                                                                               \r"
     ]
    }
   ],
   "source": [
    "dataset.save_to_disk(\"./tmp/triage\")"
   ]
  },
  {
   "cell_type": "markdown",
   "metadata": {},
   "source": [
    "## get embedding & save"
   ]
  },
  {
   "cell_type": "markdown",
   "metadata": {},
   "source": [
    "### sup-simcse-bert-base-uncased"
   ]
  },
  {
   "cell_type": "code",
   "execution_count": null,
   "metadata": {},
   "outputs": [],
   "source": [
    "!torchrun --nproc_per_node=8 ../embedding/sup-simcse-bert-base-uncased.py \\\n",
    "    --input_dataset \"./tmp/triage\" \\\n",
    "    --output_dataset \"your_output_dir\" \\\n",
    "    --train_size 0 \\\n",
    "    --valid_size 0 \\\n",
    "    --test_size 4668 \\"
   ]
  },
  {
   "cell_type": "markdown",
   "metadata": {},
   "source": [
    "### e5-large-v2"
   ]
  },
  {
   "cell_type": "code",
   "execution_count": null,
   "metadata": {},
   "outputs": [],
   "source": [
    "!torchrun --nproc_per_node=8 ../embedding/e5-large-v2.py \\\n",
    "    --input_dataset \"./tmp/triage\" \\\n",
    "    --output_dataset \"your_output_dir\" \\\n",
    "    --train_size 0 \\\n",
    "    --valid_size 0 \\\n",
    "    --test_size 4668 \\"
   ]
  },
  {
   "cell_type": "markdown",
   "metadata": {},
   "source": [
    "### bge-large-en"
   ]
  },
  {
   "cell_type": "code",
   "execution_count": null,
   "metadata": {},
   "outputs": [],
   "source": [
    "!torchrun --nproc_per_node=8 ../embedding/bge-large-en.py \\\n",
    "    --input_dataset \"./tmp/triage\" \\\n",
    "    --output_dataset \"your_output_dir\" \\\n",
    "    --train_size 0 \\\n",
    "    --valid_size 0 \\\n",
    "    --test_size 4668 \\"
   ]
  },
  {
   "cell_type": "code",
   "execution_count": null,
   "metadata": {},
   "outputs": [],
   "source": []
  }
 ],
 "metadata": {
  "kernelspec": {
   "display_name": "Python 3",
   "language": "python",
   "name": "python3"
  },
  "language_info": {
   "codemirror_mode": {
    "name": "ipython",
    "version": 3
   },
   "file_extension": ".py",
   "mimetype": "text/x-python",
   "name": "python",
   "nbconvert_exporter": "python",
   "pygments_lexer": "ipython3",
   "version": "3.10.12"
  },
  "orig_nbformat": 4
 },
 "nbformat": 4,
 "nbformat_minor": 2
}
